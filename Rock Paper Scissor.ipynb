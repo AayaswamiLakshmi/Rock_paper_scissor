{
 "cells": [
  {
   "cell_type": "code",
   "execution_count": 1,
   "id": "faefde9e",
   "metadata": {},
   "outputs": [
    {
     "name": "stdout",
     "output_type": "stream",
     "text": [
      "Rock , Paper , Scissor\n",
      "Enter your choice: Rock\n",
      "Computer Choose: Scissor\n",
      "You Won\n"
     ]
    }
   ],
   "source": [
    "# This program is for playing Rock Paper Scissor\n",
    "import random as r\n",
    "def game(comp,you):\n",
    "    if comp==you:\n",
    "        return \"The game is a tie.\"\n",
    "    elif comp==\"Rock\":\n",
    "        if you == \"Paper\":\n",
    "            return \"You Won\"\n",
    "        elif you ==\"Scissor\":\n",
    "            return \"You Lose\"\n",
    "        else:\n",
    "            return \"Enter a valid input.\"\n",
    "        \n",
    "    elif comp==\"Paper\":\n",
    "        if you==\"Rock\":\n",
    "            return \"You Lose\"\n",
    "        elif you==\"Scissor\":\n",
    "            return \"You Won\"\n",
    "        else:\n",
    "            return \"Enter a valid input.\"\n",
    "        \n",
    "    elif comp== \"Scissor\":\n",
    "        if you==\"Rock\":\n",
    "            return \"You Won\"\n",
    "        elif you==\"Paper\":\n",
    "            return \"You Lose\"\n",
    "        else:\n",
    "            return \"Enter a valid input.\"\n",
    "print(\"Rock , Paper , Scissor\")\n",
    "r=r.randint(1,3)\n",
    "if r == 1:\n",
    "    comp=\"Rock\"\n",
    "elif r == 2:\n",
    "    comp=\"Paper\"\n",
    "elif r ==3:\n",
    "    comp=\"Scissor\"\n",
    "\n",
    "you =input(\"Enter your choice: \")\n",
    "a=game(comp,you)\n",
    "print(\"Computer Choose:\",comp)\n",
    "print(a)"
   ]
  },
  {
   "cell_type": "code",
   "execution_count": null,
   "id": "07d007c2",
   "metadata": {},
   "outputs": [],
   "source": []
  }
 ],
 "metadata": {
  "kernelspec": {
   "display_name": "Python 3 (ipykernel)",
   "language": "python",
   "name": "python3"
  },
  "language_info": {
   "codemirror_mode": {
    "name": "ipython",
    "version": 3
   },
   "file_extension": ".py",
   "mimetype": "text/x-python",
   "name": "python",
   "nbconvert_exporter": "python",
   "pygments_lexer": "ipython3",
   "version": "3.9.12"
  }
 },
 "nbformat": 4,
 "nbformat_minor": 5
}
